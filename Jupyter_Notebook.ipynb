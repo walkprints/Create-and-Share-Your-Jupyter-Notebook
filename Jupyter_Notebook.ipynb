{
 "cells": [
  {
   "cell_type": "markdown",
   "metadata": {},
   "source": [
    "| header | header | header |\n",
    "| - | - | - |\n",
    "| cell | cell | cell|"
   ]
  },
  {
   "cell_type": "markdown",
   "metadata": {},
   "source": [
    "| header | header |header|\n",
    "| - | - |\n",
    "| cell | cell |cell|\n",
    "|-|-|\n",
    "|b|b|b|\n",
    "|-|"
   ]
  },
  {
   "cell_type": "markdown",
   "metadata": {},
   "source": [
    "|header|header|\n",
    "|-|-|\n",
    "|cell|cell|"
   ]
  },
  {
   "cell_type": "markdown",
   "metadata": {},
   "source": [
    "|header|header|\n",
    "|-|\n",
    "|cell|cell|\n",
    "|-|"
   ]
  },
  {
   "cell_type": "markdown",
   "metadata": {},
   "source": [
    "|header|header|\n",
    "|-|-|\n",
    "|1|1|\n",
    "|2|2|2|\n",
    "|3|3|3|"
   ]
  },
  {
   "cell_type": "markdown",
   "metadata": {},
   "source": [
    "|header|header|\n",
    "|1|1|\n",
    "|2|2|2|\n",
    "|3|3|3|\n"
   ]
  },
  {
   "cell_type": "markdown",
   "metadata": {},
   "source": [
    "|header|header|header|\n",
    "|1|1|1|\n",
    "|2|2|2|\n",
    "|3|3|3|"
   ]
  },
  {
   "cell_type": "markdown",
   "metadata": {},
   "source": [
    "|header|header|header|\n",
    "|-|-|\n",
    "|1|1|1|\n",
    "|2|2|2|\n",
    "|3|3|3|"
   ]
  },
  {
   "cell_type": "markdown",
   "metadata": {},
   "source": [
    "|header|header|header|\n",
    "|-|-|-|\n",
    "|1|1|1|\n",
    "|2|2|2|\n",
    "|3|3|3|"
   ]
  },
  {
   "cell_type": "markdown",
   "metadata": {},
   "source": [
    "|-|-|-|\n",
    "|header|header|header|\n",
    "|1|1|1|\n",
    "|2|2|2|\n",
    "|3|3|3|"
   ]
  },
  {
   "cell_type": "markdown",
   "metadata": {},
   "source": [
    "|header|header|header|\n",
    "|1|1|1|\n",
    "|-|-|-|\n",
    "|2|2|2|\n",
    "|3|3|3|"
   ]
  },
  {
   "cell_type": "markdown",
   "metadata": {},
   "source": [
    "|header|header|header|\n",
    "|-|-|\n",
    "|2|2|2|\n",
    "|3|3|3|"
   ]
  },
  {
   "cell_type": "markdown",
   "metadata": {},
   "source": [
    "|header|header|header|\n",
    "|-|-|-|\n",
    "|2|2|2|\n",
    "|3|3|3|"
   ]
  }
 ],
 "metadata": {
  "kernelspec": {
   "display_name": "Python",
   "language": "python",
   "name": "conda-env-python-py"
  },
  "language_info": {
   "codemirror_mode": {
    "name": "ipython",
    "version": 3
   },
   "file_extension": ".py",
   "mimetype": "text/x-python",
   "name": "python",
   "nbconvert_exporter": "python",
   "pygments_lexer": "ipython3",
   "version": "3.7.10"
  }
 },
 "nbformat": 4,
 "nbformat_minor": 4
}
